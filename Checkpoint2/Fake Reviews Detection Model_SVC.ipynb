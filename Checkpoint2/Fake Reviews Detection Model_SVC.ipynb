{
 "cells": [
  {
   "cell_type": "code",
   "execution_count": 1,
   "id": "0072a4b1",
   "metadata": {},
   "outputs": [],
   "source": [
    "import numpy as np\n",
    "import pandas as pd\n",
    "import seaborn as sns\n",
    "import matplotlib.pyplot as plt\n",
    "import joblib\n",
    "from sklearn.model_selection import train_test_split\n",
    "from sklearn.metrics import classification_report, confusion_matrix, accuracy_score\n",
    "from sklearn.feature_extraction.text import TfidfVectorizer\n",
    "from sklearn.pipeline import Pipeline\n",
    "from sklearn.svm import SVC\n",
    "import warnings\n",
    "import string\n",
    "from nltk.corpus import stopwords\n",
    "import nltk\n"
   ]
  },
  {
   "cell_type": "code",
   "execution_count": 2,
   "id": "c2da9d85",
   "metadata": {},
   "outputs": [
    {
     "name": "stderr",
     "output_type": "stream",
     "text": [
      "[nltk_data] Downloading package stopwords to\n",
      "[nltk_data]     C:\\Users\\ASUS\\AppData\\Roaming\\nltk_data...\n",
      "[nltk_data]   Package stopwords is already up-to-date!\n"
     ]
    },
    {
     "data": {
      "text/plain": [
       "True"
      ]
     },
     "execution_count": 2,
     "metadata": {},
     "output_type": "execute_result"
    }
   ],
   "source": [
    "\n",
    "# Download NLTK stopwords\n",
    "nltk.download('stopwords')\n"
   ]
  },
  {
   "cell_type": "code",
   "execution_count": 3,
   "id": "5d04386a",
   "metadata": {},
   "outputs": [
    {
     "name": "stdout",
     "output_type": "stream",
     "text": [
      "             category  rating label  \\\n",
      "0  Home_and_Kitchen_5     5.0    CG   \n",
      "1  Home_and_Kitchen_5     5.0    CG   \n",
      "2  Home_and_Kitchen_5     5.0    CG   \n",
      "3  Home_and_Kitchen_5     1.0    CG   \n",
      "4  Home_and_Kitchen_5     5.0    CG   \n",
      "\n",
      "                                               text_  \\\n",
      "0  love this  well made sturdy and very comfortab...   \n",
      "1  love it a great upgrade from the original  ive...   \n",
      "2  this pillow saved my back i love the look and ...   \n",
      "3  missing information on how to use it but it is...   \n",
      "4  very nice set good quality we have had the set...   \n",
      "\n",
      "                                              tokens  \\\n",
      "0  ['love', 'well', 'made', 'sturdy', 'comfortabl...   \n",
      "1  ['love', 'great', 'upgrade', 'original', 'ive'...   \n",
      "2  ['pillow', 'saved', 'back', 'love', 'look', 'f...   \n",
      "3  ['missing', 'information', 'use', 'great', 'pr...   \n",
      "4  ['nice', 'set', 'good', 'quality', 'set', 'two...   \n",
      "\n",
      "                                      processed_text  \n",
      "0  love well made sturdy comfortable love itvery ...  \n",
      "1   love great upgrade original ive mine couple year  \n",
      "2            pillow saved back love look feel pillow  \n",
      "3        missing information use great product price  \n",
      "4                nice set good quality set two month  \n"
     ]
    }
   ],
   "source": [
    "\n",
    "# Suppress warnings\n",
    "warnings.filterwarnings('ignore')\n",
    "\n",
    "# Load the dataset\n",
    "df = pd.read_csv('CHP1_fakeReviewData.csv')\n",
    "print(df.head())\n",
    "\n",
    "\n",
    "# Split the data into training and testing sets\n",
    "X_train, X_test, y_train, y_test = train_test_split(df['text_'], df['label'], test_size=0.35, random_state=42)\n",
    "\n"
   ]
  },
  {
   "cell_type": "code",
   "execution_count": 4,
   "id": "7eeeb524",
   "metadata": {},
   "outputs": [
    {
     "name": "stdout",
     "output_type": "stream",
     "text": [
      "Classification Report:\n",
      "               precision    recall  f1-score   support\n",
      "\n",
      "          CG       0.91      0.89      0.90      7059\n",
      "          OR       0.89      0.91      0.90      7034\n",
      "\n",
      "    accuracy                           0.90     14093\n",
      "   macro avg       0.90      0.90      0.90     14093\n",
      "weighted avg       0.90      0.90      0.90     14093\n",
      "\n",
      "Confusion Matrix:\n",
      " [[6258  801]\n",
      " [ 609 6425]]\n",
      "Accuracy Score: 0.8999503299510395\n",
      "Model Prediction Accuracy: 90.0%\n",
      "\n",
      "Support Vector Machines Model Accuracy: 90.0%\n"
     ]
    }
   ],
   "source": [
    "\n",
    "# Define the pipeline with TfidfVectorizer and SVC\n",
    "pipeline = Pipeline([\n",
    "    ('tfidf', TfidfVectorizer(\n",
    "        lowercase=True,  # Convert text to lowercase\n",
    "        stop_words='english',  # Remove English stopwords\n",
    "        max_df=0.8,  # Ignore terms that appear in more than 80% of documents\n",
    "        min_df=5,  # Ignore terms that appear in fewer than 5 documents\n",
    "        ngram_range=(1, 2)  # Use unigrams and bigrams\n",
    "    )),\n",
    "    ('classifier', SVC(kernel='linear', probability=True))  # Use a linear kernel for SVC\n",
    "])\n",
    "\n",
    "# Train the pipeline\n",
    "pipeline.fit(X_train, y_train)\n",
    "\n",
    "# Make predictions\n",
    "svc_pred = pipeline.predict(X_test)\n",
    "\n",
    "# Evaluate the model\n",
    "print('Classification Report:\\n', classification_report(y_test, svc_pred))\n",
    "print('Confusion Matrix:\\n', confusion_matrix(y_test, svc_pred))\n",
    "print('Accuracy Score:', accuracy_score(y_test, svc_pred))\n",
    "print('Model Prediction Accuracy:', str(np.round(accuracy_score(y_test, svc_pred) * 100, 2)) + '%')\n",
    "\n",
    "# Save the entire pipeline (including the vectorizer and model)\n",
    "joblib.dump(pipeline, 'svc_pipeline.pkl')\n",
    "\n",
    "print('\\nSupport Vector Machines Model Accuracy:', str(np.round(accuracy_score(y_test, svc_pred) * 100, 2)) + '%')"
   ]
  }
 ],
 "metadata": {
  "kernelspec": {
   "display_name": "Python 3",
   "language": "python",
   "name": "python3"
  },
  "language_info": {
   "codemirror_mode": {
    "name": "ipython",
    "version": 3
   },
   "file_extension": ".py",
   "mimetype": "text/x-python",
   "name": "python",
   "nbconvert_exporter": "python",
   "pygments_lexer": "ipython3",
   "version": "3.11.1"
  }
 },
 "nbformat": 4,
 "nbformat_minor": 5
}
